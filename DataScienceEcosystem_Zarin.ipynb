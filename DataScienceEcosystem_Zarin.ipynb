{
 "cells": [
  {
   "cell_type": "markdown",
   "id": "c7a8f750-6e3c-4621-b11c-88912c1db388",
   "metadata": {},
   "source": [
    "# Data Science Tools and Ecosystem"
   ]
  },
  {
   "cell_type": "markdown",
   "id": "decbdd62-4c85-4c89-a0ae-80e62a11f0bd",
   "metadata": {},
   "source": [
    "In this notebook, Data Science Tools and Ecosystem are summarized."
   ]
  },
  {
   "cell_type": "markdown",
   "id": "4ecccecd-973c-4c21-9b8f-a2167d4e88dc",
   "metadata": {},
   "source": [
    "**Objectives:**\n",
    "\n",
    "- List popular languages for Data Science  \n",
    "- Identify commonly used data science libraries  \n",
    "- Name development environment tools used in data science  \n",
    "- Perform basic arithmetic operations in Python  \n",
    "- Convert time units using Python expressions  "
   ]
  },
  {
   "cell_type": "markdown",
   "id": "5ee61284-be81-482d-a795-bdf3968dc3cb",
   "metadata": {},
   "source": [
    "Some of the popular languages that Data Scientists use are:\n",
    "\n",
    "1. Python  \n",
    "2. R  \n",
    "3. SQL"
   ]
  },
  {
   "cell_type": "markdown",
   "id": "f64e86aa-2d1a-4f21-8ea7-3dd806a8e7c2",
   "metadata": {},
   "source": [
    "Some of the commonly used libraries used by Data Scientists include:\n",
    "\n",
    "1. Pandas  \n",
    "2. NumPy  \n",
    "3. Matplotlib  \n",
    "4. Scikit-learn "
   ]
  },
  {
   "cell_type": "markdown",
   "id": "19be6809-6660-453a-bac7-2e542a9966ae",
   "metadata": {},
   "source": [
    "| Data Science Tools    |\n",
    "|----------------------|\n",
    "| Jupyter Notebook     |\n",
    "| RStudio              |\n",
    "| VS Code              |"
   ]
  },
  {
   "cell_type": "markdown",
   "id": "3cedb43e-c70d-4e7c-b615-d6b3890c590a",
   "metadata": {},
   "source": [
    "### Below are a few examples of evaluating arithmetic expressions in Python."
   ]
  },
  {
   "cell_type": "code",
   "execution_count": 2,
   "id": "69c61de5-6fc8-40f4-bb1a-52b87382617f",
   "metadata": {},
   "outputs": [
    {
     "data": {
      "text/plain": [
       "17"
      ]
     },
     "execution_count": 2,
     "metadata": {},
     "output_type": "execute_result"
    }
   ],
   "source": [
    "#This is a simple arithmetic expression to multiply then add integers.\n",
    "(3 * 4) + 5"
   ]
  },
  {
   "cell_type": "code",
   "execution_count": 3,
   "id": "2ff7d08f-1fce-4db5-ac91-82b0b3f548a6",
   "metadata": {},
   "outputs": [
    {
     "data": {
      "text/plain": [
       "3.3333333333333335"
      ]
     },
     "execution_count": 3,
     "metadata": {},
     "output_type": "execute_result"
    }
   ],
   "source": [
    "# This will convert 200 minutes to hours by dividing by 60.\n",
    "200 / 60"
   ]
  },
  {
   "cell_type": "markdown",
   "id": "a811df9d-23c2-4cfa-ba6b-97013a13f075",
   "metadata": {},
   "source": [
    "## Author\n",
    "\n",
    "Zarin Subah Shamma"
   ]
  }
 ],
 "metadata": {
  "kernelspec": {
   "display_name": "Python 3 (ipykernel)",
   "language": "python",
   "name": "python3"
  },
  "language_info": {
   "codemirror_mode": {
    "name": "ipython",
    "version": 3
   },
   "file_extension": ".py",
   "mimetype": "text/x-python",
   "name": "python",
   "nbconvert_exporter": "python",
   "pygments_lexer": "ipython3",
   "version": "3.12.8"
  }
 },
 "nbformat": 4,
 "nbformat_minor": 5
}
